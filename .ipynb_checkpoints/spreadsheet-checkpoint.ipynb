{
 "cells": [
  {
   "cell_type": "code",
   "execution_count": 3,
   "metadata": {},
   "outputs": [],
   "source": [
    "import gspread\n",
    "from oauth2client.service_account import ServiceAccountCredentials"
   ]
  },
  {
   "cell_type": "code",
   "execution_count": 4,
   "metadata": {},
   "outputs": [],
   "source": [
    "scope =[\"https://spreadsheets.google.com/feeds\",\"https://www.googleapis.com/auth/spreadsheets\",\"https://www.googleapis.com/auth/drive.file\",\"https://www.googleapis.com/auth/drive\"]\n",
    "creds=ServiceAccountCredentials.from_json_keyfile_name('emailmsg-screate.json',scope)\n",
    "client=gspread.authorize(creds)"
   ]
  },
  {
   "cell_type": "code",
   "execution_count": 6,
   "metadata": {},
   "outputs": [
    {
     "name": "stdout",
     "output_type": "stream",
     "text": [
      "[{'company name': 'abc', 'type': 'ai', 'mail': 'alfonsakjames98@gmail.cpm', 'status': 'wait'}, {'company name': 'sed', 'type': 'web', 'mail': 'alfonsakjames98@gmail.cpm', 'status': 'pending'}, {'company name': 'gvx', 'type': 'ai', 'mail': 'alfonsakjames98@gmail.cpm', 'status': 'sent'}, {'company name': 'qwe', 'type': 'ai', 'mail': 'alfonsakjames98@gmail.cpm', 'status': 'wait'}, {'company name': 'asd', 'type': 'web', 'mail': 'alfonsakjames98@gmail.cpm', 'status': 'sent'}]\n"
     ]
    }
   ],
   "source": [
    "sheet=client.open('emaildata').sheet1\n",
    "data=sheet.get_all_records()\n",
    "print(data)"
   ]
  },
  {
   "cell_type": "code",
   "execution_count": 9,
   "metadata": {},
   "outputs": [],
   "source": [
    "import os\n",
    "os.chdir(\"c:\\\\users\\\\ash347\\\\anaconda3\\\\lib\")"
   ]
  },
  {
   "cell_type": "code",
   "execution_count": 67,
   "metadata": {},
   "outputs": [
    {
     "ename": "ModuleNotFoundError",
     "evalue": "No module named 'Google'",
     "output_type": "error",
     "traceback": [
      "\u001b[1;31m---------------------------------------------------------------------------\u001b[0m",
      "\u001b[1;31mModuleNotFoundError\u001b[0m                       Traceback (most recent call last)",
      "\u001b[1;32m<ipython-input-67-62d93af1248c>\u001b[0m in \u001b[0;36m<module>\u001b[1;34m\u001b[0m\n\u001b[1;32m----> 1\u001b[1;33m \u001b[1;32mfrom\u001b[0m \u001b[0mGoogle\u001b[0m \u001b[1;32mimport\u001b[0m \u001b[0mCreate_Service\u001b[0m\u001b[1;33m\u001b[0m\u001b[1;33m\u001b[0m\u001b[0m\n\u001b[0m\u001b[0;32m      2\u001b[0m \u001b[1;32mimport\u001b[0m \u001b[0mbase64\u001b[0m\u001b[1;33m\u001b[0m\u001b[1;33m\u001b[0m\u001b[0m\n\u001b[0;32m      3\u001b[0m \u001b[1;32mfrom\u001b[0m \u001b[0memail\u001b[0m\u001b[1;33m.\u001b[0m\u001b[0mmime\u001b[0m\u001b[1;33m.\u001b[0m\u001b[0mmultipart\u001b[0m \u001b[1;32mimport\u001b[0m \u001b[0mMIMEMultipart\u001b[0m\u001b[1;33m\u001b[0m\u001b[1;33m\u001b[0m\u001b[0m\n\u001b[0;32m      4\u001b[0m \u001b[1;32mfrom\u001b[0m \u001b[0memail\u001b[0m\u001b[1;33m.\u001b[0m\u001b[0mmime\u001b[0m\u001b[1;33m.\u001b[0m\u001b[0mtext\u001b[0m \u001b[1;32mimport\u001b[0m \u001b[0mMIMEText\u001b[0m\u001b[1;33m\u001b[0m\u001b[1;33m\u001b[0m\u001b[0m\n\u001b[0;32m      5\u001b[0m \u001b[1;33m\u001b[0m\u001b[0m\n",
      "\u001b[1;31mModuleNotFoundError\u001b[0m: No module named 'Google'"
     ]
    }
   ],
   "source": [
    "from Google import Create_Service\n",
    "import base64\n",
    "from email.mime.multipart import MIMEMultipart\n",
    "from email.mime.text import MIMEText\n",
    " \n",
    "CLIENT_SECRET_FILE = 'emailmsg-screate.json'\n",
    "API_NAME = 'gmail'\n",
    "API_VERSION = 'v1'\n",
    "SCOPES = ['https://mail.google.com/']\n",
    " \n",
    "service = Create_Service(CLIENT_SECRET_FILE, API_NAME, API_VERSION, SCOPES)\n",
    "emailMsg = open('message.txt','r')\n",
    "mimeMessage = MIMEMultipart()\n",
    "mimeMessage['to'] = 'meetmeashwin@gmail.com'\n",
    "mimeMessage['subject'] = 'Application for job'\n",
    "mimeMessage.attach(MIMEText(emailMsg, 'plain'))\n",
    "raw_string = base64.urlsafe_b64encode(mimeMessage.as_bytes()).decode()\n",
    " \n",
    "message = service.users().messages().send(userId='me', body={'raw': raw_string}).execute()\n",
    "print(message)\n"
   ]
  },
  {
   "cell_type": "code",
   "execution_count": null,
   "metadata": {},
   "outputs": [],
   "source": []
  },
  {
   "cell_type": "code",
   "execution_count": null,
   "metadata": {},
   "outputs": [],
   "source": []
  },
  {
   "cell_type": "code",
   "execution_count": null,
   "metadata": {},
   "outputs": [],
   "source": []
  },
  {
   "cell_type": "code",
   "execution_count": null,
   "metadata": {},
   "outputs": [],
   "source": []
  },
  {
   "cell_type": "code",
   "execution_count": null,
   "metadata": {},
   "outputs": [],
   "source": []
  },
  {
   "cell_type": "code",
   "execution_count": null,
   "metadata": {},
   "outputs": [],
   "source": []
  },
  {
   "cell_type": "markdown",
   "metadata": {},
   "source": [
    "import pickle\n",
    "import os\n",
    "from google_auth_oauthlib.flow import Flow, InstalledAppFlow\n",
    "from googleapiclient.discovery import build\n",
    "from googleapiclient.http import MediaFileUpload, MediaIoBaseDownload\n",
    "from google.auth.transport.requests import Request\n",
    " \n",
    "def Create_Service(client_secret_file, api_name, api_version, *scopes):\n",
    "    print(client_secret_file, api_name, api_version, scopes, sep='-')\n",
    "    CLIENT_SECRET_FILE = client_secret_file\n",
    "    API_SERVICE_NAME = api_name\n",
    "    API_VERSION = api_version\n",
    "    SCOPES = [scope for scope in scopes[0]]\n",
    "    print(SCOPES)\n",
    " \n",
    "    cred = None\n",
    " \n",
    "    pickle_file = f'token_{API_SERVICE_NAME}_{API_VERSION}.pickle'\n",
    "    # print(pickle_file)\n",
    " \n",
    "    if os.path.exists(pickle_file):\n",
    "        with open(pickle_file, 'rb') as token:\n",
    "            cred = pickle.load(token)\n",
    " \n",
    "    if not cred or not cred.valid:\n",
    "        if cred and cred.expired and cred.refresh_token:\n",
    "            cred.refresh(Request())\n",
    "        else:\n",
    "            flow = InstalledAppFlow.from_client_secrets_file(CLIENT_SECRET_FILE, SCOPES)\n",
    "            cred = flow.run_local_server()\n",
    " \n",
    "        with open(pickle_file, 'wb') as token:\n",
    "            pickle.dump(cred, token)\n",
    " \n",
    "    try:\n",
    "        service = build(API_SERVICE_NAME, API_VERSION, credentials=cred)\n",
    "        print(API_SERVICE_NAME, 'service created successfully')\n",
    "        return service\n",
    "    except Exception as e:\n",
    "        print('Unable to connect.')\n",
    "        print(e)\n",
    "        return None\n",
    "\n",
    "def convert_to_RFC_datetime(year=1900, month=1, day=1, hour=0, minute=0):\n",
    "    dt = datetime.datetime(year, month, day, hour, minute, 0).isoformat() + 'Z'\n",
    "    return dt\n"
   ]
  }
 ],
 "metadata": {
  "kernelspec": {
   "display_name": "Python 3",
   "language": "python",
   "name": "python3"
  },
  "language_info": {
   "codemirror_mode": {
    "name": "ipython",
    "version": 3
   },
   "file_extension": ".py",
   "mimetype": "text/x-python",
   "name": "python",
   "nbconvert_exporter": "python",
   "pygments_lexer": "ipython3",
   "version": "3.7.1"
  }
 },
 "nbformat": 4,
 "nbformat_minor": 2
}
