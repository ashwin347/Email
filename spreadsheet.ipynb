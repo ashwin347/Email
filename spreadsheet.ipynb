{
 "cells": [
  {
   "cell_type": "code",
   "execution_count": null,
   "metadata": {},
   "outputs": [],
   "source": [
    "import gspread\n",
    "from oauth2client.service_account import ServiceAccountCredentials"
   ]
  },
  {
   "cell_type": "code",
   "execution_count": null,
   "metadata": {},
   "outputs": [],
   "source": []
  },
  {
   "cell_type": "code",
   "execution_count": null,
   "metadata": {},
   "outputs": [],
   "source": [
    "\n",
    "from google_auth_oauthlib.flow import InstalledAppFlow\n",
    "scope =[\"https://spreadsheets.google.com/feeds\",\"https://www.googleapis.com/auth/spreadsheets\",\"https://www.googleapis.com/auth/drive.file\",\"https://www.googleapis.com/auth/drive\"]\n",
    "#creds=ServiceAccountCredentials.from_json_keyfile_name('cred_excel.json',scope)\n",
    "flow = InstalledAppFlow.from_client_secrets_file(\n",
    "                'cred_excel.json', scope)\n"
   ]
  },
  {
   "cell_type": "code",
   "execution_count": null,
   "metadata": {},
   "outputs": [],
   "source": [
    "creds = flow.run_local_server(port=0)\n",
    "client=gspread.authorize(creds)\n"
   ]
  },
  {
   "cell_type": "code",
   "execution_count": 1,
   "metadata": {},
   "outputs": [
    {
     "name": "stdout",
     "output_type": "stream",
     "text": [
      "Name, Major:\n",
      "['Infrrd', 'AI', 'hiring@infrrd.ai']\n",
      "['www.cotocus.com', 'AI+dev', 'BIMLA@cotocus.com', 'sent']\n",
      "['morganstanley.com', '', 'mediainquiries@morganstanley.com']\n",
      "['http://locus.sh/', 'AI+DEV', 'nishith@locus.sh']\n",
      "['www.zycus.com', 'AI+DEV', 'careers@zycus.com', 'pending']\n",
      "['in.nttdata.com', 'AI+DEV', 'Anita.Sanghi@nttdata.com', 'pending']\n",
      "['uipath.com', 'AI', 'aghu@uipath.com', 'pending']\n",
      "['deemsoft.com', 'ai', 'hr@deemsoft.com', 'pending']\n",
      "['egaleview', 'ai+dev', 'recruiting@eagleview.com', 'pending']\n",
      "['Yagerbomb Media Pvt. Ltd', 'ai_dev', 'prateek@flochat.in', 'pending']\n",
      "['siemens ', 'ai', 'shiindia@bgl.vsnl.net.in', 'pending']\n",
      "['observe.ai', 'ai', ' jane@observe.ai', 'mailid wrong']\n"
     ]
    }
   ],
   "source": [
    "from __future__ import print_function\n",
    "import pickle\n",
    "import os.path\n",
    "from googleapiclient.discovery import  build\n",
    "from google_auth_oauthlib.flow import InstalledAppFlow\n",
    "from google.auth.transport.requests import Request\n",
    "\n",
    "# If modifying these scopes, delete the file token.pickle.\n",
    "SCOPES = ['https://www.googleapis.com/auth/spreadsheets','https://mail.google.com']\n",
    "\n",
    "# The ID and range of a sample spreadsheet.\n",
    "SAMPLE_SPREADSHEET_ID = '1eJJqUCVqJGpQixPJhp9N7IisbQZCDV-DUggVB9gX4Zs'\n",
    "SAMPLE_RANGE_NAME = 'A2:E'\n",
    "\n",
    "def main():\n",
    "    \"\"\"Shows basic usage of the Sheets API.\n",
    "    Prints values from a sample spreadsheet.\n",
    "    \"\"\"\n",
    "    creds = None\n",
    "    if os.path.exists('token.pickle'):\n",
    "        with open('token.pickle', 'rb') as token:\n",
    "            creds = pickle.load(token)\n",
    "    # If there are no (valid) credentials available, let the user log in.\n",
    "    if not creds or not creds.valid:\n",
    "        if creds and creds.expired and creds.refresh_token:\n",
    "            creds.refresh(Request())\n",
    "        else:\n",
    "            flow = InstalledAppFlow.from_client_secrets_file('C:\\\\Users\\\\Ash347\\\\Documents\\\\ml notebooks\\\\Email\\\\credentials.json', SCOPES)\n",
    "            creds = flow.run_local_server(port=0)\n",
    "        # Save the credentials for the next run\n",
    "        with open('token.pickle', 'wb') as token:\n",
    "            pickle.dump(creds, token)\n",
    "\n",
    "    service = build('sheets', 'v4', credentials=creds)\n",
    "\n",
    "    # Call the Sheets API\n",
    "    sheet = service.spreadsheets()\n",
    "    result = sheet.values().get(spreadsheetId=SAMPLE_SPREADSHEET_ID,range=SAMPLE_RANGE_NAME).execute()\n",
    "    values = result.get('values', [])\n",
    "\n",
    "    if not values:\n",
    "        print('No data found.')\n",
    "    else:\n",
    "        print('Name, Major:')\n",
    "        for row in values:\n",
    "            # Print columns A and E, which correspond to indices 0 and 4.\n",
    "            print(row)\n",
    "\n",
    "if __name__ == '__main__':\n",
    "    main()"
   ]
  },
  {
   "cell_type": "code",
   "execution_count": 3,
   "metadata": {},
   "outputs": [
    {
     "name": "stdout",
     "output_type": "stream",
     "text": [
      "Please visit this URL to authorize this application: https://accounts.google.com/o/oauth2/auth?response_type=code&client_id=1007544375572-4vd488d81old7hd5lbpq764dk0ub0o5c.apps.googleusercontent.com&redirect_uri=http%3A%2F%2Flocalhost%3A52826%2F&scope=https%3A%2F%2Fwww.googleapis.com%2Fauth%2Fgmail.send&state=Pl12ErxQVRlL4crOSL32E9qxjeE6pH&access_type=offline\n",
      "Message Id: 1765cea6fb2e0159\n"
     ]
    },
    {
     "data": {
      "text/plain": [
       "{'id': '1765cea6fb2e0159',\n",
       " 'threadId': '1765cea6fb2e0159',\n",
       " 'labelIds': ['SENT']}"
      ]
     },
     "execution_count": 3,
     "metadata": {},
     "output_type": "execute_result"
    }
   ],
   "source": [
    "from email.mime.text import MIMEText\n",
    "import base64\n",
    "#with open('token.pickle', 'rb') as token:\n",
    "#    creds = pickle.load(token)\n",
    "SCOPES=['https://www.googleapis.com/auth/gmail.send']\n",
    "flow = InstalledAppFlow.from_client_secrets_file('C:\\\\Users\\\\Ash347\\\\Documents\\\\ml notebooks\\\\Email\\\\credentials.json', SCOPES)\n",
    "creds = flow.run_local_server(port=0)\n",
    "mail_service = build('gmail', 'v1', credentials=creds)\n",
    "def create_message(sender, to, subject, message_text):\n",
    "    message = MIMEText(message_text)\n",
    "    message['to'] = to\n",
    "    message['from'] = sender\n",
    "    message['subject'] = subject\n",
    "    raw_message = base64.urlsafe_b64encode(message.as_string().encode(\"utf-8\"))\n",
    "    return {'raw': raw_message.decode(\"utf-8\")}\n",
    "\n",
    "def send_message(service, user_id, message):\n",
    "    message = (mail_service.users().messages().send(userId=user_id, body=message).execute())\n",
    "    print('Message Id: %s' % message['id'])\n",
    "    return message\n",
    "message=create_message('meetmeashwin@gmail.com','nancykjames66@gmail.com','testing mail sb','testing mail')\n",
    "send_message(mail_service,'me',message)"
   ]
  },
  {
   "cell_type": "code",
   "execution_count": null,
   "metadata": {},
   "outputs": [],
   "source": [
    "from googleapiclient.discovery import build\n",
    "from google_auth_oauthlib.flow import InstalledAppFlow\n",
    "from google.auth.transport.requests import Request\n",
    "import collections\n",
    "import base64\n",
    "from email.mime.multipart import MIMEMultipart\n",
    "from email.mime.text import MIMEText\n",
    " \n",
    "CLIENT_SECRET_FILE = 'emailmsg-screate.json'\n",
    "API_NAME = 'gmail'\n",
    "API_VERSION = 'v1'\n",
    "SCOPES = ['https://mail.google.com/']\n",
    " \n",
    "service = Create_Service(CLIENT_SECRET_FILE, API_NAME, API_VERSION, SCOPES)\n",
    "emailMsg = open('message.txt','r')\n",
    "mimeMessage = MIMEMultipart()\n",
    "mimeMessage['to'] = 'meetmeashwin@gmail.com'\n",
    "mimeMessage['subject'] = 'Application for job'\n",
    "mimeMessage.attach(MIMEText(emailMsg, 'plain'))\n",
    "raw_string = base64.urlsafe_b64encode(mimeMessage.as_bytes()).decode()\n",
    " \n",
    "message = service.users().messages().send(userId='me', body={'raw': raw_string}).execute()\n",
    "print(message)\n"
   ]
  },
  {
   "cell_type": "code",
   "execution_count": null,
   "metadata": {},
   "outputs": [],
   "source": []
  },
  {
   "cell_type": "code",
   "execution_count": null,
   "metadata": {},
   "outputs": [],
   "source": []
  },
  {
   "cell_type": "code",
   "execution_count": null,
   "metadata": {},
   "outputs": [],
   "source": []
  },
  {
   "cell_type": "code",
   "execution_count": null,
   "metadata": {},
   "outputs": [],
   "source": []
  },
  {
   "cell_type": "code",
   "execution_count": null,
   "metadata": {},
   "outputs": [],
   "source": []
  },
  {
   "cell_type": "code",
   "execution_count": null,
   "metadata": {},
   "outputs": [],
   "source": []
  },
  {
   "cell_type": "markdown",
   "metadata": {},
   "source": [
    "import pickle\n",
    "import os\n",
    "from google_auth_oauthlib.flow import Flow, InstalledAppFlow\n",
    "from googleapiclient.discovery import build\n",
    "from googleapiclient.http import MediaFileUpload, MediaIoBaseDownload\n",
    "from google.auth.transport.requests import Request\n",
    " \n",
    "def Create_Service(client_secret_file, api_name, api_version, *scopes):\n",
    "    print(client_secret_file, api_name, api_version, scopes, sep='-')\n",
    "    CLIENT_SECRET_FILE = client_secret_file\n",
    "    API_SERVICE_NAME = api_name\n",
    "    API_VERSION = api_version\n",
    "    SCOPES = [scope for scope in scopes[0]]\n",
    "    print(SCOPES)\n",
    " \n",
    "    cred = None\n",
    " \n",
    "    pickle_file = f'token_{API_SERVICE_NAME}_{API_VERSION}.pickle'\n",
    "    # print(pickle_file)\n",
    " \n",
    "    if os.path.exists(pickle_file):\n",
    "        with open(pickle_file, 'rb') as token:\n",
    "            cred = pickle.load(token)\n",
    " \n",
    "    if not cred or not cred.valid:\n",
    "        if cred and cred.expired and cred.refresh_token:\n",
    "            cred.refresh(Request())\n",
    "        else:\n",
    "            flow = InstalledAppFlow.from_client_secrets_file(CLIENT_SECRET_FILE, SCOPES)\n",
    "            cred = flow.run_local_server()\n",
    " \n",
    "        with open(pickle_file, 'wb') as token:\n",
    "            pickle.dump(cred, token)\n",
    " \n",
    "    try:\n",
    "        service = build(API_SERVICE_NAME, API_VERSION, credentials=cred)\n",
    "        print(API_SERVICE_NAME, 'service created successfully')\n",
    "        return service\n",
    "    except Exception as e:\n",
    "        print('Unable to connect.')\n",
    "        print(e)\n",
    "        return None\n",
    "\n",
    "def convert_to_RFC_datetime(year=1900, month=1, day=1, hour=0, minute=0):\n",
    "    dt = datetime.datetime(year, month, day, hour, minute, 0).isoformat() + 'Z'\n",
    "    return dt\n"
   ]
  }
 ],
 "metadata": {
  "kernelspec": {
   "display_name": "Python 3",
   "language": "python",
   "name": "python3"
  },
  "language_info": {
   "codemirror_mode": {
    "name": "ipython",
    "version": 3
   },
   "file_extension": ".py",
   "mimetype": "text/x-python",
   "name": "python",
   "nbconvert_exporter": "python",
   "pygments_lexer": "ipython3",
   "version": "3.7.1"
  }
 },
 "nbformat": 4,
 "nbformat_minor": 2
}
